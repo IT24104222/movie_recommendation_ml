{
 "cells": [
  {
   "cell_type": "code",
   "execution_count": 3,
   "id": "41555cd5",
   "metadata": {},
   "outputs": [
    {
     "name": "stdout",
     "output_type": "stream",
     "text": [
      "f:\\Programming Files\\34.sch(ai-ml)\\movie_recommendation_ml\\movie_recommendation_ml\\notebooks\n"
     ]
    }
   ],
   "source": [
    "# checking the working directory\n",
    "\n",
    "import os\n",
    "print(os.getcwd())"
   ]
  },
  {
   "cell_type": "code",
   "execution_count": 5,
   "id": "5c935e43",
   "metadata": {},
   "outputs": [
    {
     "name": "stdout",
     "output_type": "stream",
     "text": [
      "F:\\Programming Files\\34.sch(ai-ml)\\movie_recommendation_ml\\movie_recommendation_ml\n"
     ]
    }
   ],
   "source": [
    "# changing to the root directory\n",
    "\n",
    "os.chdir(r\"F:\\Programming Files\\34.sch(ai-ml)\\movie_recommendation_ml\\movie_recommendation_ml\")\n",
    "print(os.getcwd())   # confirm it changed\n"
   ]
  },
  {
   "cell_type": "code",
   "execution_count": null,
   "id": "433e4fcc",
   "metadata": {},
   "outputs": [],
   "source": [
    "# Importing libraries\n",
    "\n",
    "import pandas as pd\n",
    "df = pd.read_csv(\"data/raw/raw_cleaned/final_test.csv\")\n"
   ]
  },
  {
   "cell_type": "code",
   "execution_count": null,
   "id": "73a6dbc1",
   "metadata": {},
   "outputs": [],
   "source": [
    "# Clean column names first\n",
    "df.columns = df.columns.str.strip()\n",
    "\n",
    "# Convert release_date to release year\n",
    "df['release_year'] = pd.to_datetime(df['release date']).dt.year\n",
    "\n",
    "\n",
    "# Fill missing categorical values with \"Unknown\"\n",
    "df['occupation'] = df['occupation'].fillna('Unknown')\n",
    "df['gender']     = df['gender'].fillna(\"Unknown\")\n",
    "\n",
    "# Fill numeric values with median\n",
    "df['age'] = df['age'].fillna(df['age'].median())\n",
    "df['release_year'] = df['release_year'].fillna(df['release_year'].median())\n",
    "\n"
   ]
  },
  {
   "cell_type": "code",
   "execution_count": 17,
   "id": "775f12db",
   "metadata": {},
   "outputs": [
    {
     "name": "stdout",
     "output_type": "stream",
     "text": [
      "Data after cleaning:\n",
      "age             0\n",
      "gender          0\n",
      "occupation      0\n",
      "release_year    0\n",
      "dtype: int64\n",
      "\n",
      "Sample data:\n",
      "   age gender  occupation release date  release_year\n",
      "0   49      M      writer   1997-01-24        1997.0\n",
      "1   39      F   executive   1997-01-01        1997.0\n",
      "2   25      M      writer   1994-01-01        1994.0\n",
      "3   28      M  technician   1994-01-01        1994.0\n",
      "4   47      M    educator   1997-01-01        1997.0\n",
      "5   44      M   executive   1963-01-01        1963.0\n",
      "6   31      M    engineer   1990-01-01        1990.0\n",
      "7   26      F   librarian   1994-01-01        1994.0\n",
      "8   23      M  programmer   1978-01-01        1978.0\n",
      "9   42      M   executive   1993-01-01        1993.0\n"
     ]
    }
   ],
   "source": [
    "# Verify the results\n",
    "print(\"Data after cleaning:\")\n",
    "print(df[['age', 'gender', 'occupation', 'release_year']].isnull().sum())\n",
    "print(\"\\nSample data:\")\n",
    "print(df[['age', 'gender', 'occupation', 'release date', 'release_year']].head(10))"
   ]
  }
 ],
 "metadata": {
  "kernelspec": {
   "display_name": "Python 3",
   "language": "python",
   "name": "python3"
  },
  "language_info": {
   "codemirror_mode": {
    "name": "ipython",
    "version": 3
   },
   "file_extension": ".py",
   "mimetype": "text/x-python",
   "name": "python",
   "nbconvert_exporter": "python",
   "pygments_lexer": "ipython3",
   "version": "3.13.7"
  }
 },
 "nbformat": 4,
 "nbformat_minor": 5
}
