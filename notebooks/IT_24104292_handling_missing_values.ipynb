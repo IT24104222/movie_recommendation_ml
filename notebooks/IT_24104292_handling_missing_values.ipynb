{
 "cells": [
  {
   "cell_type": "code",
   "execution_count": 12,
   "id": "433e4fcc",
   "metadata": {},
   "outputs": [],
   "source": [
    "# Importing libraries\n",
    "\n",
    "import pandas as pd\n",
    "df = pd.read_csv(\"../data/raw/raw_cleaned/final_test.csv\")\n"
   ]
  },
  {
   "cell_type": "code",
   "execution_count": 13,
   "id": "73a6dbc1",
   "metadata": {},
   "outputs": [],
   "source": [
    "# Clean column names first\n",
    "df.columns = df.columns.str.strip()\n",
    "\n",
    "# Convert release_date to release year\n",
    "df['release_year'] = pd.to_datetime(df['release date']).dt.year\n",
    "\n",
    "\n",
    "# Fill missing categorical values with \"Unknown\"\n",
    "df['occupation'] = df['occupation'].fillna('Unknown')\n",
    "df['gender']     = df['gender'].fillna(\"Unknown\")\n",
    "df['IMDb URL'] = df['IMDb URL'].fillna(\"unknown\")\n",
    "\n",
    "# Fill numeric values with median\n",
    "df['age'] = df['age'].fillna(df['age'].median())\n",
    "df['release_year'] = df['release_year'].fillna(df['release_year'].median())\n",
    "\n"
   ]
  },
  {
   "cell_type": "code",
   "execution_count": 14,
   "id": "775f12db",
   "metadata": {},
   "outputs": [
    {
     "name": "stdout",
     "output_type": "stream",
     "text": [
      "Data after cleaning:\n",
      "age             0\n",
      "gender          0\n",
      "occupation      0\n",
      "release_year    0\n",
      "dtype: int64\n",
      "\n",
      "Sample data:\n",
      "   age gender  occupation release date  release_year\n",
      "0   49      M      writer   1997-01-24        1997.0\n",
      "1   39      F   executive   1997-01-01        1997.0\n",
      "2   25      M      writer   1994-01-01        1994.0\n",
      "3   28      M  technician   1994-01-01        1994.0\n",
      "4   47      M    educator   1997-01-01        1997.0\n",
      "5   44      M   executive   1963-01-01        1963.0\n",
      "6   31      M    engineer   1990-01-01        1990.0\n",
      "7   26      F   librarian   1994-01-01        1994.0\n",
      "8   23      M  programmer   1978-01-01        1978.0\n",
      "9   42      M   executive   1993-01-01        1993.0\n"
     ]
    }
   ],
   "source": [
    "# Verify the results\n",
    "print(\"Data after cleaning:\")\n",
    "print(df[['age', 'gender', 'occupation', 'release_year']].isnull().sum())\n",
    "print(\"\\nSample data:\")\n",
    "print(df[['age', 'gender', 'occupation', 'release date', 'release_year']].head(10))"
   ]
  },
  {
   "cell_type": "code",
   "execution_count": 15,
   "id": "8db77628",
   "metadata": {},
   "outputs": [
    {
     "name": "stdout",
     "output_type": "stream",
     "text": [
      "<class 'pandas.core.frame.DataFrame'>\n",
      "RangeIndex: 100000 entries, 0 to 99999\n",
      "Data columns (total 32 columns):\n",
      " #   Column        Non-Null Count   Dtype  \n",
      "---  ------        --------------   -----  \n",
      " 0   user id       100000 non-null  int64  \n",
      " 1   movie id      100000 non-null  int64  \n",
      " 2   rate          100000 non-null  int64  \n",
      " 3   timestamp     100000 non-null  int64  \n",
      " 4   datetime      100000 non-null  object \n",
      " 5   age           100000 non-null  int64  \n",
      " 6   gender        100000 non-null  object \n",
      " 7   occupation    100000 non-null  object \n",
      " 8   zip code      100000 non-null  object \n",
      " 9   movie title   100000 non-null  object \n",
      " 10  release date  99991 non-null   object \n",
      " 11  IMDb URL      100000 non-null  object \n",
      " 12  Other         100000 non-null  int64  \n",
      " 13  Action        100000 non-null  int64  \n",
      " 14  Adventure     100000 non-null  int64  \n",
      " 15  Animation     100000 non-null  int64  \n",
      " 16  Children's    100000 non-null  int64  \n",
      " 17  Comedy        100000 non-null  int64  \n",
      " 18  Crime         100000 non-null  int64  \n",
      " 19  Documentary   100000 non-null  int64  \n",
      " 20  Drama         100000 non-null  int64  \n",
      " 21  Fantasy       100000 non-null  int64  \n",
      " 22  Film-Noir     100000 non-null  int64  \n",
      " 23  Horror        100000 non-null  int64  \n",
      " 24  Musical       100000 non-null  int64  \n",
      " 25  Mystery       100000 non-null  int64  \n",
      " 26  Romance       100000 non-null  int64  \n",
      " 27  Sci-Fi        100000 non-null  int64  \n",
      " 28  Thriller      100000 non-null  int64  \n",
      " 29  War           100000 non-null  int64  \n",
      " 30  Western       100000 non-null  int64  \n",
      " 31  release_year  100000 non-null  float64\n",
      "dtypes: float64(1), int64(24), object(7)\n",
      "memory usage: 24.4+ MB\n"
     ]
    }
   ],
   "source": [
    "df.info()"
   ]
  },
  {
   "cell_type": "code",
   "execution_count": 16,
   "id": "ef794c75",
   "metadata": {},
   "outputs": [],
   "source": [
    "df = df.drop('release date', axis=1)"
   ]
  },
  {
   "cell_type": "code",
   "execution_count": 17,
   "id": "e3686d03",
   "metadata": {},
   "outputs": [
    {
     "name": "stdout",
     "output_type": "stream",
     "text": [
      "<class 'pandas.core.frame.DataFrame'>\n",
      "RangeIndex: 100000 entries, 0 to 99999\n",
      "Data columns (total 31 columns):\n",
      " #   Column        Non-Null Count   Dtype  \n",
      "---  ------        --------------   -----  \n",
      " 0   user id       100000 non-null  int64  \n",
      " 1   movie id      100000 non-null  int64  \n",
      " 2   rate          100000 non-null  int64  \n",
      " 3   timestamp     100000 non-null  int64  \n",
      " 4   datetime      100000 non-null  object \n",
      " 5   age           100000 non-null  int64  \n",
      " 6   gender        100000 non-null  object \n",
      " 7   occupation    100000 non-null  object \n",
      " 8   zip code      100000 non-null  object \n",
      " 9   movie title   100000 non-null  object \n",
      " 10  IMDb URL      100000 non-null  object \n",
      " 11  Other         100000 non-null  int64  \n",
      " 12  Action        100000 non-null  int64  \n",
      " 13  Adventure     100000 non-null  int64  \n",
      " 14  Animation     100000 non-null  int64  \n",
      " 15  Children's    100000 non-null  int64  \n",
      " 16  Comedy        100000 non-null  int64  \n",
      " 17  Crime         100000 non-null  int64  \n",
      " 18  Documentary   100000 non-null  int64  \n",
      " 19  Drama         100000 non-null  int64  \n",
      " 20  Fantasy       100000 non-null  int64  \n",
      " 21  Film-Noir     100000 non-null  int64  \n",
      " 22  Horror        100000 non-null  int64  \n",
      " 23  Musical       100000 non-null  int64  \n",
      " 24  Mystery       100000 non-null  int64  \n",
      " 25  Romance       100000 non-null  int64  \n",
      " 26  Sci-Fi        100000 non-null  int64  \n",
      " 27  Thriller      100000 non-null  int64  \n",
      " 28  War           100000 non-null  int64  \n",
      " 29  Western       100000 non-null  int64  \n",
      " 30  release_year  100000 non-null  float64\n",
      "dtypes: float64(1), int64(24), object(6)\n",
      "memory usage: 23.7+ MB\n"
     ]
    }
   ],
   "source": [
    "df.info()"
   ]
  },
  {
   "cell_type": "code",
   "execution_count": 18,
   "id": "4cf7c860",
   "metadata": {},
   "outputs": [],
   "source": [
    "df.to_csv('../data/raw/raw_cleaned/final_test.csv')"
   ]
  },
  {
   "cell_type": "code",
   "execution_count": null,
   "id": "61140263",
   "metadata": {},
   "outputs": [],
   "source": []
  }
 ],
 "metadata": {
  "kernelspec": {
   "display_name": "Python 3",
   "language": "python",
   "name": "python3"
  },
  "language_info": {
   "codemirror_mode": {
    "name": "ipython",
    "version": 3
   },
   "file_extension": ".py",
   "mimetype": "text/x-python",
   "name": "python",
   "nbconvert_exporter": "python",
   "pygments_lexer": "ipython3",
   "version": "3.11.1"
  }
 },
 "nbformat": 4,
 "nbformat_minor": 5
}
