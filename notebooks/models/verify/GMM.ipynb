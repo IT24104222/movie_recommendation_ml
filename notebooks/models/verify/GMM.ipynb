{
 "cells": [
  {
   "cell_type": "code",
   "execution_count": 1,
   "id": "9fcd337e",
   "metadata": {},
   "outputs": [],
   "source": [
    "import pandas as pd\n",
    "import numpy as np\n",
    "import joblib\n",
    "from sklearn.preprocessing import StandardScaler"
   ]
  },
  {
   "cell_type": "code",
   "execution_count": 3,
   "id": "1afe4a49",
   "metadata": {},
   "outputs": [],
   "source": [
    "scaler = StandardScaler()\n",
    "model_gmm = joblib.load('../../../models/gmm/gmm_model.pkl')\n",
    "cluster_movie_matrix = joblib.load('../../../models/gmm/cluster_movie_matrix.pkl')"
   ]
  },
  {
   "cell_type": "code",
   "execution_count": 13,
   "id": "9fcc5a6f",
   "metadata": {},
   "outputs": [
    {
     "name": "stdout",
     "output_type": "stream",
     "text": [
      "Recommended Movie IDs for New User: [-0.5212458431777284, 2.7131276696156927, -0.7624323957569701, -0.0234120615718576, -0.9324998366782304]\n",
      "🎬 Recommended movie IDs: [-0.5212458431777284, 2.7131276696156927, -0.7624323957569701, -0.0234120615718576, -0.9324998366782304]\n"
     ]
    },
    {
     "name": "stderr",
     "output_type": "stream",
     "text": [
      "c:\\Users\\nad soft\\AppData\\Local\\Programs\\Python\\Python311\\Lib\\site-packages\\sklearn\\utils\\validation.py:2739: UserWarning: X does not have valid feature names, but GaussianMixture was fitted with feature names\n",
      "  warnings.warn(\n"
     ]
    }
   ],
   "source": [
    "# Example new user input\n",
    "new_user = {\n",
    "    'age': 28,\n",
    "    'gender': 1,\n",
    "    'occupation': 4,\n",
    "    'Other': 0.0, 'Action': 1.0, 'Adventure': 0.5,\n",
    "    'Animation': 0.0, \"Children\\'s\": 0.0, 'Comedy': 1.0,\n",
    "    'Crime': 0.3, 'Documentary': 0.0, 'Drama': 0.2,\n",
    "    'Fantasy': 0.0, 'Film-Noir': 0.0, 'Horror': 0.0,\n",
    "    'Musical': 0.0, 'Mystery': 0.0, 'Romance': 0.2,\n",
    "    'Sci-Fi': 0.6, 'Thriller': 0.7, 'War': 0.0, 'Western': 0.0,\n",
    "    'release_year': 2008\n",
    "}\n",
    "\n",
    "# Convert to DataFrame (matching training columns)\n",
    "x_new = pd.DataFrame([new_user])\n",
    "# Scale features\n",
    "x_new_scaled = scaler.transform(x_new)\n",
    "# Predict cluster probabilities\n",
    "new_user_probs = model_gmm.predict_proba(x_new_scaled)\n",
    "\n",
    "movies_count = 5\n",
    "\n",
    "top_movies_indices_new_user = np.dot(new_user_probs, cluster_movie_matrix.T)\n",
    "\n",
    "top_indecies = np.argsort(top_movies_indices_new_user[0])[::-1][:movies_count]\n",
    "recommended_movie_ids_new_user = cluster_movie_matrix.index[top_indecies].tolist()\n",
    "\n",
    "print(f'Recommended Movie IDs for New User: {recommended_movie_ids_new_user}')\n",
    "\n",
    "print(\"🎬 Recommended movie IDs:\", recommended_movie_ids_new_user)\n"
   ]
  },
  {
   "cell_type": "code",
   "execution_count": null,
   "id": "99f349a1",
   "metadata": {},
   "outputs": [],
   "source": []
  }
 ],
 "metadata": {
  "kernelspec": {
   "display_name": "Python 3",
   "language": "python",
   "name": "python3"
  },
  "language_info": {
   "codemirror_mode": {
    "name": "ipython",
    "version": 3
   },
   "file_extension": ".py",
   "mimetype": "text/x-python",
   "name": "python",
   "nbconvert_exporter": "python",
   "pygments_lexer": "ipython3",
   "version": "3.11.1"
  }
 },
 "nbformat": 4,
 "nbformat_minor": 5
}
