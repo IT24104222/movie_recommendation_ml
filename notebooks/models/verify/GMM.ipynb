{
 "cells": [
  {
   "cell_type": "code",
   "execution_count": 7,
   "id": "9fcd337e",
   "metadata": {},
   "outputs": [],
   "source": [
    "import pandas as pd\n",
    "import numpy as np\n",
    "import joblib"
   ]
  },
  {
   "cell_type": "code",
   "execution_count": 8,
   "id": "1afe4a49",
   "metadata": {},
   "outputs": [],
   "source": [
    "model_gmm = joblib.load('../../../models/gmm/gmm_model.pkl')\n",
    "cluster_movie_matrix = joblib.load('../../../models/gmm/cluster_movie_matrix.pkl')\n",
    "scaler = joblib.load('../../../models/gmm/scaler.pkl')"
   ]
  },
  {
   "cell_type": "code",
   "execution_count": null,
   "id": "99f349a1",
   "metadata": {},
   "outputs": [],
   "source": []
  },
  {
   "cell_type": "code",
   "execution_count": 9,
   "id": "224a7935",
   "metadata": {},
   "outputs": [
    {
     "name": "stdout",
     "output_type": "stream",
     "text": [
      "Recommended Movie IDs for New User: [483, 513, 514, 474, 480]\n"
     ]
    },
    {
     "name": "stderr",
     "output_type": "stream",
     "text": [
      "c:\\Users\\nad soft\\AppData\\Local\\Programs\\Python\\Python311\\Lib\\site-packages\\sklearn\\utils\\validation.py:2739: UserWarning: X does not have valid feature names, but GaussianMixture was fitted with feature names\n",
      "  warnings.warn(\n"
     ]
    }
   ],
   "source": [
    "# recommend movies for new user\n",
    "new_user = pd.DataFrame({\n",
    "    'age': [25],\n",
    "    'gender': [1],\n",
    "    'occupation': [10],\n",
    "    'Other': [0],\n",
    "    'Action': [1],\n",
    "    'Adventure': [0],\n",
    "    'Animation': [0],\n",
    "    \"Children\": [0],\n",
    "    'Comedy': [1],\n",
    "    'Crime': [0],\n",
    "    'Documentary': [0],\n",
    "    'Drama': [0],\n",
    "    'Fantasy': [0],\n",
    "    'Film-Noir': [0],\n",
    "    'Horror': [0],\n",
    "    'Musical': [0],\n",
    "    'Mystery': [0],\n",
    "    'Romance': [1],\n",
    "    'Sci-Fi': [0],\n",
    "    'Thriller': [0],\n",
    "    'War': [0],\n",
    "    'Western': [0],\n",
    "})\n",
    "\n",
    "movies_count = 5\n",
    "\n",
    "new_user_scaled = scaler.transform(new_user)\n",
    "\n",
    "new_user_probs= model_gmm.predict_proba(new_user_scaled)\n",
    "# new_user_probs: (1, n_clusters)\n",
    "# cluster_movie_matrix: (n_clusters, n_movies)\n",
    "\n",
    "top_movies_indices_new_user = np.dot(new_user_probs, cluster_movie_matrix.values.T)\n",
    "top_indices = np.argsort(top_movies_indices_new_user[0])[::-1][:movies_count]\n",
    "recommended_movie_ids_new_user = cluster_movie_matrix.index[top_indices].tolist()\n",
    "\n",
    "print(f\"Recommended Movie IDs for New User: {recommended_movie_ids_new_user}\")"
   ]
  },
  {
   "cell_type": "code",
   "execution_count": null,
   "id": "91b8b9d9",
   "metadata": {},
   "outputs": [],
   "source": []
  },
  {
   "cell_type": "code",
   "execution_count": null,
   "id": "3e58c54b",
   "metadata": {},
   "outputs": [],
   "source": []
  }
 ],
 "metadata": {
  "kernelspec": {
   "display_name": "Python 3",
   "language": "python",
   "name": "python3"
  },
  "language_info": {
   "codemirror_mode": {
    "name": "ipython",
    "version": 3
   },
   "file_extension": ".py",
   "mimetype": "text/x-python",
   "name": "python",
   "nbconvert_exporter": "python",
   "pygments_lexer": "ipython3",
   "version": "3.11.1"
  }
 },
 "nbformat": 4,
 "nbformat_minor": 5
}
