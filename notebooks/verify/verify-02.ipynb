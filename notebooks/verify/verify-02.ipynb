{
 "cells": [
  {
   "cell_type": "markdown",
   "id": "1bec48f4",
   "metadata": {},
   "source": [
    "## This notebook is uses to verify age bucket is works"
   ]
  },
  {
   "cell_type": "code",
   "execution_count": 1,
   "id": "da8c2100",
   "metadata": {},
   "outputs": [],
   "source": [
    "import pandas as pd"
   ]
  },
  {
   "cell_type": "code",
   "execution_count": 2,
   "id": "5bb461b2",
   "metadata": {},
   "outputs": [],
   "source": [
    "PATH_TO_CSV = '../../data/raw/raw_cleaned/final_test.csv'"
   ]
  },
  {
   "cell_type": "code",
   "execution_count": 3,
   "id": "09bdc634",
   "metadata": {},
   "outputs": [],
   "source": [
    "df = pd.read_csv(PATH_TO_CSV)"
   ]
  },
  {
   "cell_type": "code",
   "execution_count": 4,
   "id": "65937770",
   "metadata": {},
   "outputs": [
    {
     "data": {
      "text/html": [
       "<div>\n",
       "<style scoped>\n",
       "    .dataframe tbody tr th:only-of-type {\n",
       "        vertical-align: middle;\n",
       "    }\n",
       "\n",
       "    .dataframe tbody tr th {\n",
       "        vertical-align: top;\n",
       "    }\n",
       "\n",
       "    .dataframe thead th {\n",
       "        text-align: right;\n",
       "    }\n",
       "</style>\n",
       "<table border=\"1\" class=\"dataframe\">\n",
       "  <thead>\n",
       "    <tr style=\"text-align: right;\">\n",
       "      <th></th>\n",
       "      <th>Unnamed: 0.1</th>\n",
       "      <th>Unnamed: 0</th>\n",
       "      <th>user id</th>\n",
       "      <th>movie id</th>\n",
       "      <th>rate</th>\n",
       "      <th>timestamp</th>\n",
       "      <th>datetime</th>\n",
       "      <th>age</th>\n",
       "      <th>gender</th>\n",
       "      <th>occupation</th>\n",
       "      <th>...</th>\n",
       "      <th>Film-Noir</th>\n",
       "      <th>Horror</th>\n",
       "      <th>Musical</th>\n",
       "      <th>Mystery</th>\n",
       "      <th>Romance</th>\n",
       "      <th>Sci-Fi</th>\n",
       "      <th>Thriller</th>\n",
       "      <th>War</th>\n",
       "      <th>Western</th>\n",
       "      <th>release_year</th>\n",
       "    </tr>\n",
       "  </thead>\n",
       "  <tbody>\n",
       "    <tr>\n",
       "      <th>0</th>\n",
       "      <td>0</td>\n",
       "      <td>0</td>\n",
       "      <td>196</td>\n",
       "      <td>242</td>\n",
       "      <td>3</td>\n",
       "      <td>881250949</td>\n",
       "      <td>1997-12-04 15:55:49</td>\n",
       "      <td>Adult</td>\n",
       "      <td>M</td>\n",
       "      <td>writer</td>\n",
       "      <td>...</td>\n",
       "      <td>0</td>\n",
       "      <td>0</td>\n",
       "      <td>0</td>\n",
       "      <td>0</td>\n",
       "      <td>0</td>\n",
       "      <td>0</td>\n",
       "      <td>0</td>\n",
       "      <td>0</td>\n",
       "      <td>0</td>\n",
       "      <td>1997.0</td>\n",
       "    </tr>\n",
       "    <tr>\n",
       "      <th>1</th>\n",
       "      <td>1</td>\n",
       "      <td>1</td>\n",
       "      <td>186</td>\n",
       "      <td>302</td>\n",
       "      <td>3</td>\n",
       "      <td>891717742</td>\n",
       "      <td>1998-04-04 19:22:22</td>\n",
       "      <td>Adult</td>\n",
       "      <td>F</td>\n",
       "      <td>executive</td>\n",
       "      <td>...</td>\n",
       "      <td>1</td>\n",
       "      <td>0</td>\n",
       "      <td>0</td>\n",
       "      <td>1</td>\n",
       "      <td>0</td>\n",
       "      <td>0</td>\n",
       "      <td>1</td>\n",
       "      <td>0</td>\n",
       "      <td>0</td>\n",
       "      <td>1997.0</td>\n",
       "    </tr>\n",
       "    <tr>\n",
       "      <th>2</th>\n",
       "      <td>2</td>\n",
       "      <td>2</td>\n",
       "      <td>22</td>\n",
       "      <td>377</td>\n",
       "      <td>1</td>\n",
       "      <td>878887116</td>\n",
       "      <td>1997-11-07 07:18:36</td>\n",
       "      <td>Adult</td>\n",
       "      <td>M</td>\n",
       "      <td>writer</td>\n",
       "      <td>...</td>\n",
       "      <td>0</td>\n",
       "      <td>0</td>\n",
       "      <td>0</td>\n",
       "      <td>0</td>\n",
       "      <td>0</td>\n",
       "      <td>0</td>\n",
       "      <td>0</td>\n",
       "      <td>0</td>\n",
       "      <td>0</td>\n",
       "      <td>1994.0</td>\n",
       "    </tr>\n",
       "    <tr>\n",
       "      <th>3</th>\n",
       "      <td>3</td>\n",
       "      <td>3</td>\n",
       "      <td>244</td>\n",
       "      <td>51</td>\n",
       "      <td>2</td>\n",
       "      <td>880606923</td>\n",
       "      <td>1997-11-27 05:02:03</td>\n",
       "      <td>Adult</td>\n",
       "      <td>M</td>\n",
       "      <td>technician</td>\n",
       "      <td>...</td>\n",
       "      <td>0</td>\n",
       "      <td>0</td>\n",
       "      <td>0</td>\n",
       "      <td>0</td>\n",
       "      <td>1</td>\n",
       "      <td>0</td>\n",
       "      <td>0</td>\n",
       "      <td>1</td>\n",
       "      <td>1</td>\n",
       "      <td>1994.0</td>\n",
       "    </tr>\n",
       "    <tr>\n",
       "      <th>4</th>\n",
       "      <td>4</td>\n",
       "      <td>4</td>\n",
       "      <td>166</td>\n",
       "      <td>346</td>\n",
       "      <td>1</td>\n",
       "      <td>886397596</td>\n",
       "      <td>1998-02-02 05:33:16</td>\n",
       "      <td>Adult</td>\n",
       "      <td>M</td>\n",
       "      <td>educator</td>\n",
       "      <td>...</td>\n",
       "      <td>0</td>\n",
       "      <td>0</td>\n",
       "      <td>0</td>\n",
       "      <td>0</td>\n",
       "      <td>0</td>\n",
       "      <td>0</td>\n",
       "      <td>0</td>\n",
       "      <td>0</td>\n",
       "      <td>0</td>\n",
       "      <td>1997.0</td>\n",
       "    </tr>\n",
       "  </tbody>\n",
       "</table>\n",
       "<p>5 rows × 33 columns</p>\n",
       "</div>"
      ],
      "text/plain": [
       "   Unnamed: 0.1  Unnamed: 0  user id  movie id  rate  timestamp  \\\n",
       "0             0           0      196       242     3  881250949   \n",
       "1             1           1      186       302     3  891717742   \n",
       "2             2           2       22       377     1  878887116   \n",
       "3             3           3      244        51     2  880606923   \n",
       "4             4           4      166       346     1  886397596   \n",
       "\n",
       "              datetime    age gender  occupation  ... Film-Noir Horror  \\\n",
       "0  1997-12-04 15:55:49  Adult      M      writer  ...         0      0   \n",
       "1  1998-04-04 19:22:22  Adult      F   executive  ...         1      0   \n",
       "2  1997-11-07 07:18:36  Adult      M      writer  ...         0      0   \n",
       "3  1997-11-27 05:02:03  Adult      M  technician  ...         0      0   \n",
       "4  1998-02-02 05:33:16  Adult      M    educator  ...         0      0   \n",
       "\n",
       "  Musical  Mystery  Romance  Sci-Fi  Thriller  War  Western  release_year  \n",
       "0       0        0        0       0         0    0        0        1997.0  \n",
       "1       0        1        0       0         1    0        0        1997.0  \n",
       "2       0        0        0       0         0    0        0        1994.0  \n",
       "3       0        0        1       0         0    1        1        1994.0  \n",
       "4       0        0        0       0         0    0        0        1997.0  \n",
       "\n",
       "[5 rows x 33 columns]"
      ]
     },
     "execution_count": 4,
     "metadata": {},
     "output_type": "execute_result"
    }
   ],
   "source": [
    "df.head()"
   ]
  },
  {
   "cell_type": "code",
   "execution_count": 5,
   "id": "2f75df95",
   "metadata": {},
   "outputs": [
    {
     "name": "stdout",
     "output_type": "stream",
     "text": [
      "<class 'pandas.core.frame.DataFrame'>\n",
      "RangeIndex: 100000 entries, 0 to 99999\n",
      "Data columns (total 33 columns):\n",
      " #   Column        Non-Null Count   Dtype  \n",
      "---  ------        --------------   -----  \n",
      " 0   Unnamed: 0.1  100000 non-null  int64  \n",
      " 1   Unnamed: 0    100000 non-null  int64  \n",
      " 2   user id       100000 non-null  int64  \n",
      " 3   movie id      100000 non-null  int64  \n",
      " 4   rate          100000 non-null  int64  \n",
      " 5   timestamp     100000 non-null  int64  \n",
      " 6   datetime      100000 non-null  object \n",
      " 7   age           100000 non-null  object \n",
      " 8   gender        100000 non-null  object \n",
      " 9   occupation    100000 non-null  object \n",
      " 10  zip code      100000 non-null  object \n",
      " 11  movie title   100000 non-null  object \n",
      " 12  IMDb URL      100000 non-null  object \n",
      " 13  Other         100000 non-null  int64  \n",
      " 14  Action        100000 non-null  int64  \n",
      " 15  Adventure     100000 non-null  int64  \n",
      " 16  Animation     100000 non-null  int64  \n",
      " 17  Children's    100000 non-null  int64  \n",
      " 18  Comedy        100000 non-null  int64  \n",
      " 19  Crime         100000 non-null  int64  \n",
      " 20  Documentary   100000 non-null  int64  \n",
      " 21  Drama         100000 non-null  int64  \n",
      " 22  Fantasy       100000 non-null  int64  \n",
      " 23  Film-Noir     100000 non-null  int64  \n",
      " 24  Horror        100000 non-null  int64  \n",
      " 25  Musical       100000 non-null  int64  \n",
      " 26  Mystery       100000 non-null  int64  \n",
      " 27  Romance       100000 non-null  int64  \n",
      " 28  Sci-Fi        100000 non-null  int64  \n",
      " 29  Thriller      100000 non-null  int64  \n",
      " 30  War           100000 non-null  int64  \n",
      " 31  Western       100000 non-null  int64  \n",
      " 32  release_year  100000 non-null  float64\n",
      "dtypes: float64(1), int64(25), object(7)\n",
      "memory usage: 25.2+ MB\n"
     ]
    }
   ],
   "source": [
    "df.info()"
   ]
  },
  {
   "cell_type": "code",
   "execution_count": 6,
   "id": "6fb9bb34",
   "metadata": {},
   "outputs": [
    {
     "data": {
      "text/plain": [
       "age\n",
       "Adult     96798\n",
       "Teen       2390\n",
       "Senior      711\n",
       "Child       101\n",
       "Name: count, dtype: int64"
      ]
     },
     "execution_count": 6,
     "metadata": {},
     "output_type": "execute_result"
    }
   ],
   "source": [
    "df['age'].value_counts()"
   ]
  },
  {
   "cell_type": "code",
   "execution_count": 15,
   "id": "1daf5548",
   "metadata": {},
   "outputs": [
    {
     "data": {
      "text/plain": [
       "<bound method Series.count of 0        Adult\n",
       "1        Adult\n",
       "2        Adult\n",
       "3        Adult\n",
       "4        Adult\n",
       "         ...  \n",
       "99995     Teen\n",
       "99996    Adult\n",
       "99997    Adult\n",
       "99998    Adult\n",
       "99999    Adult\n",
       "Name: age, Length: 100000, dtype: object>"
      ]
     },
     "execution_count": 15,
     "metadata": {},
     "output_type": "execute_result"
    }
   ],
   "source": [
    "df['age'].count"
   ]
  },
  {
   "cell_type": "code",
   "execution_count": null,
   "id": "3d00f48e",
   "metadata": {},
   "outputs": [],
   "source": []
  }
 ],
 "metadata": {
  "kernelspec": {
   "display_name": "Python 3",
   "language": "python",
   "name": "python3"
  },
  "language_info": {
   "codemirror_mode": {
    "name": "ipython",
    "version": 3
   },
   "file_extension": ".py",
   "mimetype": "text/x-python",
   "name": "python",
   "nbconvert_exporter": "python",
   "pygments_lexer": "ipython3",
   "version": "3.11.1"
  }
 },
 "nbformat": 4,
 "nbformat_minor": 5
}
